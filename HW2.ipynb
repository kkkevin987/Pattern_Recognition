{
 "cells": [
  {
   "cell_type": "code",
   "execution_count": 24,
   "source": [
    "# n 變數 線性方程組\r\n",
    "import numpy as np"
   ],
   "outputs": [],
   "metadata": {}
  },
  {
   "cell_type": "code",
   "execution_count": 25,
   "source": [
    "#  3 * 3\r\n",
    "\r\n",
    "# A=陣列數字\r\n",
    "A = np.array([[1, -2, 3], [2, 1, -1], [-1, 1, 2]])\r\n",
    "# B=陣列數字\r\n",
    "b = np.array([[1], [3], [7]])\r\n",
    "# to solve\r\n",
    "x = np.linalg.solve(A, b)\r\n",
    "\r\n",
    "\r\n",
    "print(\r\n",
    "\r\n",
    "    f''' \r\n",
    "\r\n",
    "A= {A} \r\n",
    "\r\n",
    "b= {b} \r\n",
    "\r\n",
    "x= {x} \r\n",
    "\r\n",
    "''')"
   ],
   "outputs": [
    {
     "output_type": "stream",
     "name": "stdout",
     "text": [
      " \n",
      "\n",
      "A= [[ 1 -2  3]\n",
      " [ 2  1 -1]\n",
      " [-1  1  2]] \n",
      "\n",
      "b= [[1]\n",
      " [3]\n",
      " [7]] \n",
      "\n",
      "x= [[0.9444]\n",
      " [3.3889]\n",
      " [2.2778]] \n",
      "\n",
      "\n"
     ]
    }
   ],
   "metadata": {}
  },
  {
   "cell_type": "code",
   "execution_count": 26,
   "source": [
    "#  5 * 5\r\n",
    "\r\n",
    "# A=陣列數字\r\n",
    "A = np.array([[1, -2, 3, 1, -2], [2, 1, -1, -1, 1],\r\n",
    "             [-1, 1, 2, 2, -3], [2, 1, -1, -1, 2], [1, 3, -2, 2, -2]])\r\n",
    "# B=陣列數字\r\n",
    "b = np.array([[1], [3], [7], [5], [4]])\r\n",
    "# to solve\r\n",
    "x = np.linalg.solve(A, b)\r\n",
    "\r\n",
    "\r\n",
    "print(\r\n",
    "\r\n",
    "    f''' \r\n",
    "\r\n",
    "A= {A} \r\n",
    "\r\n",
    "b= {b} \r\n",
    "\r\n",
    "x= {x} \r\n",
    "\r\n",
    "''')"
   ],
   "outputs": [
    {
     "output_type": "stream",
     "name": "stdout",
     "text": [
      " \n",
      "\n",
      "A= [[ 1 -2  3  1 -2]\n",
      " [ 2  1 -1 -1  1]\n",
      " [-1  1  2  2 -3]\n",
      " [ 2  1 -1 -1  2]\n",
      " [ 1  3 -2  2 -2]] \n",
      "\n",
      "b= [[1]\n",
      " [3]\n",
      " [7]\n",
      " [5]\n",
      " [4]] \n",
      "\n",
      "x= [[0.875]\n",
      " [4.125]\n",
      " [3.75 ]\n",
      " [1.125]\n",
      " [2.   ]] \n",
      "\n",
      "\n"
     ]
    }
   ],
   "metadata": {}
  },
  {
   "cell_type": "code",
   "execution_count": 27,
   "source": [
    "#  10 * 10\r\n",
    "\r\n",
    "n = 10\r\n",
    "np.random.seed(0)\r\n",
    "\r\n",
    "A = np.random.randint(-3, 3, size=(n, n))\r\n",
    "\r\n",
    "\r\n",
    "np.random.seed(1)\r\n",
    "\r\n",
    "b = np.random.randint(-3, 8, size=(n, 1))\r\n",
    "\r\n",
    "# to solve\r\n",
    "x = np.linalg.solve(A, b)\r\n",
    "\r\n",
    "print(\r\n",
    "\r\n",
    "    f''' \r\n",
    "\r\n",
    "A= {A} \r\n",
    "\r\n",
    "b= {b} \r\n",
    "\r\n",
    "x= {x} \r\n",
    "\r\n",
    "''')"
   ],
   "outputs": [
    {
     "output_type": "stream",
     "name": "stdout",
     "text": [
      " \n",
      "\n",
      "A= [[ 1  2 -3  0  0  0 -2  0  2 -1]\n",
      " [ 1 -3 -3  1 -1 -2 -3 -2  2 -2]\n",
      " [ 2 -3 -2  1  0 -3  0  2 -3 -1]\n",
      " [ 0 -3 -2  0  2  0  0 -3 -2 -2]\n",
      " [-2 -3 -1  1  0  0 -1  1 -1 -3]\n",
      " [-3  1  2  2 -3  1 -2  1 -2 -1]\n",
      " [-1 -3 -2 -2 -2 -2  0  0 -1  0]\n",
      " [-3  0  2  1 -2 -1  1  0  1  1]\n",
      " [ 1  0  1  1  1 -3  1  0 -1  2]\n",
      " [ 2  2 -3 -2  2 -2  0 -3  2 -3]] \n",
      "\n",
      "b= [[ 2]\n",
      " [ 5]\n",
      " [ 6]\n",
      " [ 2]\n",
      " [-3]\n",
      " [-3]\n",
      " [-2]\n",
      " [ 4]\n",
      " [ 3]\n",
      " [ 6]] \n",
      "\n",
      "x= [[ 1.6893]\n",
      " [ 0.6244]\n",
      " [-1.9299]\n",
      " [ 3.6887]\n",
      " [-2.6736]\n",
      " [-0.0933]\n",
      " [ 4.2903]\n",
      " [-1.4591]\n",
      " [ 0.4537]\n",
      " [-0.9455]] \n",
      "\n",
      "\n"
     ]
    }
   ],
   "metadata": {}
  },
  {
   "cell_type": "code",
   "execution_count": 36,
   "source": [
    "# %%\r\n",
    "\r\n",
    "# when n is large, it is very slow!!\r\n",
    "\r\n",
    "\r\n",
    "print(f'A= \\n{A}')\r\n",
    "\r\n",
    "\r\n",
    "def ryDet(A):\r\n",
    "\r\n",
    "    n = A.shape[0]\r\n",
    "\r\n",
    "    if n > 1:\r\n",
    "\r\n",
    "        i = 0\r\n",
    "\r\n",
    "        Bi = np.delete(A, i, axis=0)\r\n",
    "\r\n",
    "        #print(f'\\ni= {i}, Bi= \\n{Bi}')\r\n",
    "\r\n",
    "        det = 0\r\n",
    "\r\n",
    "        for j in range(n):\r\n",
    "\r\n",
    "            Bij = np.delete(Bi, j, axis=1)\r\n",
    "\r\n",
    "            print(f'\\ni,j= {i}{j}, Bij= \\n{Bij}')\r\n",
    "\r\n",
    "            Dij = ryDet(Bij)  # np.linalg.det(Bij)\r\n",
    "\r\n",
    "            print(f'.... Dij= {Dij}')\r\n",
    "\r\n",
    "            Cij = A[i, j]*Dij*(-1)**(i+j)\r\n",
    "\r\n",
    "            det += Cij\r\n",
    "\r\n",
    "        #print(f'det= {det}')\r\n",
    "\r\n",
    "        return det\r\n",
    "\r\n",
    "    elif A.shape[0] == 1:\r\n",
    "\r\n",
    "        det = A[0, 0]\r\n",
    "\r\n",
    "        return det\r\n",
    "\r\n",
    "    else:\r\n",
    "\r\n",
    "        return None\r\n",
    "\r\n",
    "\r\n",
    "det = ryDet(A)\r\n",
    "\r\n",
    "print(f'\\ndet= {det}')"
   ],
   "outputs": [
    {
     "output_type": "stream",
     "name": "stdout",
     "text": [
      "A= \n",
      "[[1 3 4]\n",
      " [2 1 3]\n",
      " [4 1 2]]\n",
      "\n",
      "i,j= 00, Bij= \n",
      "[[1 3]\n",
      " [1 2]]\n",
      "\n",
      "i,j= 00, Bij= \n",
      "[[2]]\n",
      ".... Dij= 2\n",
      "\n",
      "i,j= 01, Bij= \n",
      "[[1]]\n",
      ".... Dij= 1\n",
      ".... Dij= -1\n",
      "\n",
      "i,j= 01, Bij= \n",
      "[[2 3]\n",
      " [4 2]]\n",
      "\n",
      "i,j= 00, Bij= \n",
      "[[2]]\n",
      ".... Dij= 2\n",
      "\n",
      "i,j= 01, Bij= \n",
      "[[4]]\n",
      ".... Dij= 4\n",
      ".... Dij= -8\n",
      "\n",
      "i,j= 02, Bij= \n",
      "[[2 1]\n",
      " [4 1]]\n",
      "\n",
      "i,j= 00, Bij= \n",
      "[[1]]\n",
      ".... Dij= 1\n",
      "\n",
      "i,j= 01, Bij= \n",
      "[[4]]\n",
      ".... Dij= 4\n",
      ".... Dij= -2\n",
      "\n",
      "det= 15\n"
     ]
    }
   ],
   "metadata": {}
  },
  {
   "cell_type": "code",
   "execution_count": 31,
   "source": [
    "import os\r\n",
    "import sys\r\n",
    "import glob\r\n",
    "import matplotlib.pyplot as plt\r\n",
    "import numpy as np\r\n",
    "import pandas as pd\r\n",
    "%matplotlib inline\r\n",
    "%precision 4\r\n",
    "plt.style.use('ggplot')"
   ],
   "outputs": [],
   "metadata": {}
  },
  {
   "cell_type": "code",
   "execution_count": 32,
   "source": [
    "import numpy as np\r\n",
    "import scipy.linalg as la\r\n",
    "np.set_printoptions(suppress=True)\r\n",
    "\r\n",
    "A = np.array([[1,3,4],[2,1,3],[4,1,2]])\r\n",
    "\r\n",
    "L = np.array([[1,0,0],[2,1,0],[4,11/5,1]])\r\n",
    "U = np.array([[1,3,4],[0,-5,-5],[0,0,-3]])\r\n",
    "print(L.dot(U))\r\n",
    "print(L)\r\n",
    "print(U)"
   ],
   "outputs": [
    {
     "output_type": "stream",
     "name": "stdout",
     "text": [
      "[[1. 3. 4.]\n",
      " [2. 1. 3.]\n",
      " [4. 1. 2.]]\n",
      "[[1.  0.  0. ]\n",
      " [2.  1.  0. ]\n",
      " [4.  2.2 1. ]]\n",
      "[[ 1  3  4]\n",
      " [ 0 -5 -5]\n",
      " [ 0  0 -3]]\n"
     ]
    }
   ],
   "metadata": {}
  },
  {
   "cell_type": "code",
   "execution_count": null,
   "source": [
    "import numpy as np\r\n",
    "import scipy.linalg as la\r\n",
    "np.set_printoptions(suppress=True)\r\n",
    "\r\n",
    "A = np.array([[1,3,4],[2,1,3],[4,1,2]])\r\n",
    "\r\n",
    "print(A)\r\n",
    "\r\n",
    "P, L, U = la.lu(A)\r\n",
    "print(np.dot(P.T, A))\r\n",
    "print\r\n",
    "print(np.dot(L, U))\r\n",
    "print(P)\r\n",
    "print(L)\r\n",
    "print(U)"
   ],
   "outputs": [
    {
     "output_type": "stream",
     "name": "stdout",
     "text": [
      "[[1 3 4]\n",
      " [2 1 3]\n",
      " [4 1 2]]\n",
      "[[4. 1. 2.]\n",
      " [1. 3. 4.]\n",
      " [2. 1. 3.]]\n",
      "[[4. 1. 2.]\n",
      " [1. 3. 4.]\n",
      " [2. 1. 3.]]\n",
      "[[0. 1. 0.]\n",
      " [0. 0. 1.]\n",
      " [1. 0. 0.]]\n",
      "[[1.     0.     0.    ]\n",
      " [0.25   1.     0.    ]\n",
      " [0.5    0.1818 1.    ]]\n",
      "[[4.     1.     2.    ]\n",
      " [0.     2.75   3.5   ]\n",
      " [0.     0.     1.3636]]\n"
     ]
    }
   ],
   "metadata": {}
  },
  {
   "cell_type": "code",
   "execution_count": null,
   "source": [
    "A = np.array([[1,3,5],[3,13,23],[5,23,42]])\r\n",
    "L = la.cholesky(A)\r\n",
    "print(np.dot(L.T, L))\r\n",
    "\r\n",
    "print(L)\r\n",
    "print(A)"
   ],
   "outputs": [
    {
     "output_type": "stream",
     "name": "stdout",
     "text": [
      "[[ 1.  3.  5.]\n",
      " [ 3. 13. 23.]\n",
      " [ 5. 23. 42.]]\n",
      "[[1. 3. 5.]\n",
      " [0. 2. 4.]\n",
      " [0. 0. 1.]]\n",
      "[[ 1  3  5]\n",
      " [ 3 13 23]\n",
      " [ 5 23 42]]\n"
     ]
    }
   ],
   "metadata": {}
  },
  {
   "cell_type": "code",
   "execution_count": null,
   "source": [
    "A = np.array([[0,1,1],[2,1,0],[3,4,5]])\r\n",
    "\r\n",
    "u, V = la.eig(A)\r\n",
    "print(np.dot(V,np.dot(np.diag(u), la.inv(V))))\r\n",
    "print(u)"
   ],
   "outputs": [
    {
     "output_type": "stream",
     "name": "stdout",
     "text": [
      "[[-0.+0.j  1.+0.j  1.+0.j]\n",
      " [ 2.+0.j  1.+0.j  0.+0.j]\n",
      " [ 3.+0.j  4.+0.j  5.+0.j]]\n",
      "[ 5.8541+0.j -0.8541+0.j  1.    +0.j]\n"
     ]
    }
   ],
   "metadata": {}
  },
  {
   "cell_type": "code",
   "execution_count": null,
   "source": [
    "A = np.array([[0,1],[-1,0]])\r\n",
    "print(A)\r\n",
    "\r\n",
    "u, V = la.eig(A)\r\n",
    "print(np.dot(V,np.dot(np.diag(u), la.inv(V))))\r\n",
    "print(u)"
   ],
   "outputs": [
    {
     "output_type": "stream",
     "name": "stdout",
     "text": [
      "[[ 0  1]\n",
      " [-1  0]]\n",
      "[[ 0.+0.j  1.+0.j]\n",
      " [-1.+0.j  0.+0.j]]\n",
      "[0.+1.j 0.-1.j]\n"
     ]
    }
   ],
   "metadata": {}
  },
  {
   "cell_type": "code",
   "execution_count": null,
   "source": [
    "# If you know the eigenvalues must be real\r\n",
    "# because A is a positive definite (e.g. covariance) matrix\r\n",
    "# use real_if_close\r\n",
    "\r\n",
    "A = np.array([[0,1,1],[2,1,0],[3,4,5]])\r\n",
    "u, V = la.eig(A)\r\n",
    "print(u)\r\n",
    "print (np.real_if_close(u))"
   ],
   "outputs": [
    {
     "output_type": "stream",
     "name": "stdout",
     "text": [
      "[ 5.8541+0.j -0.8541+0.j  1.    +0.j]\n",
      "[ 5.8541 -0.8541  1.    ]\n"
     ]
    }
   ],
   "metadata": {}
  },
  {
   "cell_type": "code",
   "execution_count": null,
   "source": [
    "A = np.array([[8,6,4,1],[1,4,5,1],[8,4,1,1],[1,4,3,6]])\r\n",
    "b = np.array([19,11,14,14])\r\n",
    "la.solve(A,b)"
   ],
   "outputs": [
    {
     "output_type": "execute_result",
     "data": {
      "text/plain": [
       "array([1., 1., 1., 1.])"
      ]
     },
     "metadata": {},
     "execution_count": 14
    }
   ],
   "metadata": {}
  },
  {
   "cell_type": "code",
   "execution_count": null,
   "source": [
    "b = np.array([19.01,11.05,14.07,14.05])\r\n",
    "la.solve(A,b)"
   ],
   "outputs": [
    {
     "output_type": "execute_result",
     "data": {
      "text/plain": [
       "array([-2.34 ,  9.745, -4.85 , -1.34 ])"
      ]
     },
     "metadata": {},
     "execution_count": 15
    }
   ],
   "metadata": {}
  },
  {
   "cell_type": "code",
   "execution_count": null,
   "source": [
    "U, s, V = np.linalg.svd(A)\r\n",
    "print(s)\r\n",
    "print(max(s)/min(s))"
   ],
   "outputs": [
    {
     "output_type": "stream",
     "name": "stdout",
     "text": [
      "[15.5457  6.9002  3.8363  0.0049]\n",
      "3198.6725811994825\n"
     ]
    }
   ],
   "metadata": {}
  },
  {
   "cell_type": "code",
   "execution_count": null,
   "source": [
    "# Your code here\r\n",
    "\r\n",
    "def svdsolver(A,b):\r\n",
    "    U, s, V = np.linalg.svd(A)\r\n",
    "    if np.prod(s) == 0:\r\n",
    "       print(\"Matrix is singular\")\r\n",
    "    else:\r\n",
    "       return np.dot(np.dot((V.T).dot(np.diag(s**(-1))), U.T),b)"
   ],
   "outputs": [],
   "metadata": {}
  },
  {
   "cell_type": "code",
   "execution_count": null,
   "source": [
    "A = np.array([[1,1],[1,2]])\r\n",
    "b = np.array([3,1])\r\n",
    "print(np.linalg.solve(A,b))\r\n",
    "print(svdsolver(A,b))\r\n",
    "\r\n"
   ],
   "outputs": [
    {
     "output_type": "stream",
     "name": "stdout",
     "text": [
      "[ 5. -2.]\n",
      "[ 5. -2.]\n"
     ]
    }
   ],
   "metadata": {}
  },
  {
   "cell_type": "code",
   "execution_count": null,
   "source": [
    "A = np.array([[1,2,3],[2,-4,6],[3,-9,-3]])   \r\n",
    "AL = np.array([[1,0,0],[2,1,0],[3,15/8,1]])    \r\n",
    "AU = np.array([[1,2,3],[0,-8,0],[0,0,-12]])   \r\n",
    "\r\n",
    "print(A,AL,AU)\r\n"
   ],
   "outputs": [
    {
     "output_type": "stream",
     "name": "stdout",
     "text": [
      "[[ 1  2  3]\n",
      " [ 2 -4  6]\n",
      " [ 3 -9 -3]] [[1.    0.    0.   ]\n",
      " [2.    1.    0.   ]\n",
      " [3.    1.875 1.   ]] [[  1   2   3]\n",
      " [  0  -8   0]\n",
      " [  0   0 -12]]\n"
     ]
    }
   ],
   "metadata": {}
  },
  {
   "cell_type": "code",
   "execution_count": 29,
   "source": [
    "A = np.array([[1,2,3],[2,-4,6],[3,6,-3]]) \r\n",
    "print(\"non-positive definite matrix\")"
   ],
   "outputs": [
    {
     "output_type": "stream",
     "name": "stdout",
     "text": [
      "non-positive definite matrix\n"
     ]
    }
   ],
   "metadata": {}
  }
 ],
 "metadata": {
  "orig_nbformat": 4,
  "language_info": {
   "name": "python",
   "version": "3.8.10",
   "mimetype": "text/x-python",
   "codemirror_mode": {
    "name": "ipython",
    "version": 3
   },
   "pygments_lexer": "ipython3",
   "nbconvert_exporter": "python",
   "file_extension": ".py"
  },
  "kernelspec": {
   "name": "python3",
   "display_name": "Python 3.8.10 64-bit (windows store)"
  },
  "interpreter": {
   "hash": "3051ae9942b906cdf820b6b0c285c9331d922b864c5bb0114b1d4a4cfe958208"
  }
 },
 "nbformat": 4,
 "nbformat_minor": 2
}