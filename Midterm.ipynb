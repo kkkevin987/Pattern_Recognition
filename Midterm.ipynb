{
  "nbformat": 4,
  "nbformat_minor": 0,
  "metadata": {
    "colab": {
      "name": "Untitled4.ipynb",
      "provenance": [],
      "collapsed_sections": []
    },
    "kernelspec": {
      "name": "python3",
      "display_name": "Python 3"
    },
    "language_info": {
      "name": "python"
    }
  },
  "cells": [
    {
      "cell_type": "code",
      "metadata": {
        "colab": {
          "base_uri": "https://localhost:8080/",
          "height": 53
        },
        "id": "GYrVHT-XHAKd",
        "outputId": "0e08c482-191d-4a7b-b363-c3386e603388"
      },
      "source": [
        "#第一題\n",
        "from sympy import *\n",
        "x,N = symbols('x,N')\n",
        "\n",
        "integrate(x**10,(x,0,N))"
      ],
      "execution_count": 2,
      "outputs": [
        {
          "output_type": "execute_result",
          "data": {
            "text/latex": "$\\displaystyle \\frac{N^{11}}{11}$",
            "text/plain": [
              "N**11/11"
            ]
          },
          "metadata": {},
          "execution_count": 2
        }
      ]
    },
    {
      "cell_type": "code",
      "metadata": {
        "colab": {
          "base_uri": "https://localhost:8080/",
          "height": 103
        },
        "id": "eKnDPk85iEod",
        "outputId": "fc902b29-c15b-4f59-a73f-bcbd332236e9"
      },
      "source": [
        "#第二題\n",
        "x, n ,t= symbols('x,n,t')\n",
        "k = 10\n",
        "f = Sum(x**k,(x,0,n))\n",
        "結果 = f.doit()\n",
        "display(f)\n",
        "display(結果)"
      ],
      "execution_count": 3,
      "outputs": [
        {
          "output_type": "display_data",
          "data": {
            "text/latex": "$\\displaystyle \\sum_{x=0}^{n} x^{10}$",
            "text/plain": [
              "Sum(x**10, (x, 0, n))"
            ]
          },
          "metadata": {}
        },
        {
          "output_type": "display_data",
          "data": {
            "text/latex": "$\\displaystyle \\frac{n^{11}}{11} + \\frac{n^{10}}{2} + \\frac{5 n^{9}}{6} - n^{7} + n^{5} - \\frac{n^{3}}{2} + \\frac{5 n}{66}$",
            "text/plain": [
              "n**11/11 + n**10/2 + 5*n**9/6 - n**7 + n**5 - n**3/2 + 5*n/66"
            ]
          },
          "metadata": {}
        }
      ]
    },
    {
      "cell_type": "code",
      "metadata": {
        "colab": {
          "base_uri": "https://localhost:8080/",
          "height": 103
        },
        "id": "Tfzg9H5PrHHk",
        "outputId": "ec00188d-223c-4aa1-f061-946321fdb4a0"
      },
      "source": [
        "#第三題\n",
        "from sympy import *\n",
        "x, n = symbols('x,n')\n",
        "k = 10\n",
        "f = Sum((x-1)**k,(x,0,n))\n",
        "結果 = f.doit()\n",
        "display(f)\n",
        "display(結果)"
      ],
      "execution_count": 4,
      "outputs": [
        {
          "output_type": "display_data",
          "data": {
            "text/latex": "$\\displaystyle \\sum_{x=0}^{n} \\left(x - 1\\right)^{10}$",
            "text/plain": [
              "Sum((x - 1)**10, (x, 0, n))"
            ]
          },
          "metadata": {}
        },
        {
          "output_type": "display_data",
          "data": {
            "text/latex": "$\\displaystyle \\frac{n^{11}}{11} - \\frac{n^{10}}{2} + \\frac{5 n^{9}}{6} - n^{7} + n^{5} - \\frac{n^{3}}{2} + \\frac{5 n}{66} + 1$",
            "text/plain": [
              "n**11/11 - n**10/2 + 5*n**9/6 - n**7 + n**5 - n**3/2 + 5*n/66 + 1"
            ]
          },
          "metadata": {}
        }
      ]
    },
    {
      "cell_type": "code",
      "metadata": {
        "colab": {
          "base_uri": "https://localhost:8080/",
          "height": 36
        },
        "id": "ACFRo2ncsdg8",
        "outputId": "bf6679a2-d2eb-4143-8a0d-4c80420eac09"
      },
      "source": [
        "#第四題\n",
        "integrate(x**10 * exp(-x),(x,0,oo))"
      ],
      "execution_count": 5,
      "outputs": [
        {
          "output_type": "execute_result",
          "data": {
            "text/latex": "$\\displaystyle 3628800$",
            "text/plain": [
              "3628800"
            ]
          },
          "metadata": {},
          "execution_count": 5
        }
      ]
    },
    {
      "cell_type": "code",
      "metadata": {
        "colab": {
          "base_uri": "https://localhost:8080/",
          "height": 40
        },
        "id": "o-E8GJlZtR0c",
        "outputId": "b63087f2-5c04-427c-b84e-88b20e9bf9a9"
      },
      "source": [
        "#第五題-1\n",
        "from sympy import *\n",
        "x,y = symbols('x,y')\n",
        "f = exp(-(x-1)**2 - (y+1)**2)\n",
        "diff(f, x)"
      ],
      "execution_count": 7,
      "outputs": [
        {
          "output_type": "execute_result",
          "data": {
            "text/latex": "$\\displaystyle \\left(2 - 2 x\\right) e^{- \\left(x - 1\\right)^{2} - \\left(y + 1\\right)^{2}}$",
            "text/plain": [
              "(2 - 2*x)*exp(-(x - 1)**2 - (y + 1)**2)"
            ]
          },
          "metadata": {},
          "execution_count": 7
        }
      ]
    },
    {
      "cell_type": "code",
      "metadata": {
        "colab": {
          "base_uri": "https://localhost:8080/",
          "height": 40
        },
        "id": "AeY6gsyiIUHr",
        "outputId": "0b1b97a9-f047-478b-c45a-f74c0dfc165f"
      },
      "source": [
        "#第五題-2\n",
        "from sympy import *\n",
        "x,y = symbols('x,y')\n",
        "f = exp(-(x-1)**2 - (y+1)**2)\n",
        "diff(f, y)"
      ],
      "execution_count": 8,
      "outputs": [
        {
          "output_type": "execute_result",
          "data": {
            "text/latex": "$\\displaystyle \\left(- 2 y - 2\\right) e^{- \\left(x - 1\\right)^{2} - \\left(y + 1\\right)^{2}}$",
            "text/plain": [
              "(-2*y - 2)*exp(-(x - 1)**2 - (y + 1)**2)"
            ]
          },
          "metadata": {},
          "execution_count": 8
        }
      ]
    },
    {
      "cell_type": "code",
      "metadata": {
        "colab": {
          "base_uri": "https://localhost:8080/",
          "height": 40
        },
        "id": "nvu7JCoa9BDA",
        "outputId": "f805f742-682d-45ee-8187-7c4a0cb2ee3d"
      },
      "source": [
        "#第五題-3\n",
        "from sympy import *\n",
        "x,y = symbols('x,y')\n",
        "f = exp(-(x-1)**2 - (y+1)**2)\n",
        "# f= f**2\n",
        "diff(diff(f, x), y)"
      ],
      "execution_count": 9,
      "outputs": [
        {
          "output_type": "execute_result",
          "data": {
            "text/latex": "$\\displaystyle \\left(2 - 2 x\\right) \\left(- 2 y - 2\\right) e^{- \\left(x - 1\\right)^{2} - \\left(y + 1\\right)^{2}}$",
            "text/plain": [
              "(2 - 2*x)*(-2*y - 2)*exp(-(x - 1)**2 - (y + 1)**2)"
            ]
          },
          "metadata": {},
          "execution_count": 9
        }
      ]
    },
    {
      "cell_type": "code",
      "metadata": {
        "colab": {
          "base_uri": "https://localhost:8080/",
          "height": 603
        },
        "id": "WyHBAmDx-Eay",
        "outputId": "cfc80f9f-dc8b-4619-8c5d-710d7b58befe"
      },
      "source": [
        "# -*- coding: utf-8 -*-\n",
        "\n",
        "import matplotlib.pyplot as plt\n",
        "import numpy as np\n",
        "from mpl_toolkits.mplot3d import Axes3D\n",
        "\n",
        "\n",
        "fig = plt.figure()\n",
        "axis = fig.gca(projection='3d')\n",
        "\n",
        "#產出X,Y,Z數據\n",
        "x0 = np.arange(-2.0, 2.0, 0.25)\n",
        "x1 = np.arange(-2.0, 2.0, 0.25)\n",
        "X, Y = np.meshgrid(x0, x1)\n",
        "Z = exp(-(X-1)**2 - (Y+1)**2)\n",
        "\n",
        "#畫圖\n",
        "surface = axis.plot_surface(X, Y, Z, rstride=1, cstride=1, cmap='coolwarm_r')\n",
        "fig.colorbar(surface, shrink=1.0, aspect=20)\n",
        "\n",
        "# 設置圖表訊息\n",
        "plt.title(\"F = exp(-(x-1)**2 - (y+1)**2)\", fontsize=16)\n",
        "plt.xlabel(\"X\", fontsize=16)\n",
        "plt.ylabel(\"Y\", fontsize=16)\n",
        "\n",
        "plt.show()"
      ],
      "execution_count": null,
      "outputs": [
        {
          "output_type": "error",
          "ename": "AttributeError",
          "evalue": "ignored",
          "traceback": [
            "\u001b[0;31m---------------------------------------------------------------------------\u001b[0m",
            "\u001b[0;31mAttributeError\u001b[0m                            Traceback (most recent call last)",
            "\u001b[0;32m<ipython-input-108-0f214693866d>\u001b[0m in \u001b[0;36m<module>\u001b[0;34m()\u001b[0m\n\u001b[1;32m     16\u001b[0m \u001b[0;34m\u001b[0m\u001b[0m\n\u001b[1;32m     17\u001b[0m \u001b[0;31m#畫圖\u001b[0m\u001b[0;34m\u001b[0m\u001b[0;34m\u001b[0m\u001b[0;34m\u001b[0m\u001b[0m\n\u001b[0;32m---> 18\u001b[0;31m \u001b[0msurface\u001b[0m \u001b[0;34m=\u001b[0m \u001b[0maxis\u001b[0m\u001b[0;34m.\u001b[0m\u001b[0mplot_surface\u001b[0m\u001b[0;34m(\u001b[0m\u001b[0mX\u001b[0m\u001b[0;34m,\u001b[0m \u001b[0mY\u001b[0m\u001b[0;34m,\u001b[0m \u001b[0mZ\u001b[0m\u001b[0;34m,\u001b[0m \u001b[0mrstride\u001b[0m\u001b[0;34m=\u001b[0m\u001b[0;36m1\u001b[0m\u001b[0;34m,\u001b[0m \u001b[0mcstride\u001b[0m\u001b[0;34m=\u001b[0m\u001b[0;36m1\u001b[0m\u001b[0;34m,\u001b[0m \u001b[0mcmap\u001b[0m\u001b[0;34m=\u001b[0m\u001b[0;34m'coolwarm_r'\u001b[0m\u001b[0;34m)\u001b[0m\u001b[0;34m\u001b[0m\u001b[0;34m\u001b[0m\u001b[0m\n\u001b[0m\u001b[1;32m     19\u001b[0m \u001b[0mfig\u001b[0m\u001b[0;34m.\u001b[0m\u001b[0mcolorbar\u001b[0m\u001b[0;34m(\u001b[0m\u001b[0msurface\u001b[0m\u001b[0;34m,\u001b[0m \u001b[0mshrink\u001b[0m\u001b[0;34m=\u001b[0m\u001b[0;36m1.0\u001b[0m\u001b[0;34m,\u001b[0m \u001b[0maspect\u001b[0m\u001b[0;34m=\u001b[0m\u001b[0;36m20\u001b[0m\u001b[0;34m)\u001b[0m\u001b[0;34m\u001b[0m\u001b[0;34m\u001b[0m\u001b[0m\n\u001b[1;32m     20\u001b[0m \u001b[0;34m\u001b[0m\u001b[0m\n",
            "\u001b[0;32m/usr/local/lib/python3.7/dist-packages/mpl_toolkits/mplot3d/axes3d.py\u001b[0m in \u001b[0;36mplot_surface\u001b[0;34m(self, X, Y, Z, norm, vmin, vmax, lightsource, *args, **kwargs)\u001b[0m\n\u001b[1;32m   1494\u001b[0m         \u001b[0mhad_data\u001b[0m \u001b[0;34m=\u001b[0m \u001b[0mself\u001b[0m\u001b[0;34m.\u001b[0m\u001b[0mhas_data\u001b[0m\u001b[0;34m(\u001b[0m\u001b[0;34m)\u001b[0m\u001b[0;34m\u001b[0m\u001b[0;34m\u001b[0m\u001b[0m\n\u001b[1;32m   1495\u001b[0m \u001b[0;34m\u001b[0m\u001b[0m\n\u001b[0;32m-> 1496\u001b[0;31m         \u001b[0;32mif\u001b[0m \u001b[0mZ\u001b[0m\u001b[0;34m.\u001b[0m\u001b[0mndim\u001b[0m \u001b[0;34m!=\u001b[0m \u001b[0;36m2\u001b[0m\u001b[0;34m:\u001b[0m\u001b[0;34m\u001b[0m\u001b[0;34m\u001b[0m\u001b[0m\n\u001b[0m\u001b[1;32m   1497\u001b[0m             \u001b[0;32mraise\u001b[0m \u001b[0mValueError\u001b[0m\u001b[0;34m(\u001b[0m\u001b[0;34m\"Argument Z must be 2-dimensional.\"\u001b[0m\u001b[0;34m)\u001b[0m\u001b[0;34m\u001b[0m\u001b[0;34m\u001b[0m\u001b[0m\n\u001b[1;32m   1498\u001b[0m         \u001b[0;32mif\u001b[0m \u001b[0mnp\u001b[0m\u001b[0;34m.\u001b[0m\u001b[0many\u001b[0m\u001b[0;34m(\u001b[0m\u001b[0mnp\u001b[0m\u001b[0;34m.\u001b[0m\u001b[0misnan\u001b[0m\u001b[0;34m(\u001b[0m\u001b[0mZ\u001b[0m\u001b[0;34m)\u001b[0m\u001b[0;34m)\u001b[0m\u001b[0;34m:\u001b[0m\u001b[0;34m\u001b[0m\u001b[0;34m\u001b[0m\u001b[0m\n",
            "\u001b[0;31mAttributeError\u001b[0m: 'exp' object has no attribute 'ndim'"
          ]
        },
        {
          "output_type": "display_data",
          "data": {
            "image/png": "[encoded data removed]",
            "text/plain": [
              "<Figure size 432x288 with 1 Axes>"
            ]
          },
          "metadata": {
            "needs_background": "light"
          }
        }
      ]
    },
    {
      "cell_type": "code",
      "metadata": {
        "colab": {
          "base_uri": "https://localhost:8080/",
          "height": 475
        },
        "id": "7k7hYIUs_RTD",
        "outputId": "8abf61e1-c66b-4784-fa83-3e1119b54ff1"
      },
      "source": [
        "import matplotlib.pyplot as pl\n",
        "\n",
        "from mpl_toolkits import mplot3d \n",
        "\n",
        " \n",
        "\n",
        "fg= pl.figure() \n",
        "\n",
        " \n",
        "\n",
        "ax= pl.axes(projection='3d',  \n",
        "\n",
        "            xlabel= 'x',  \n",
        "\n",
        "            ylabel= 'y',  \n",
        "\n",
        "            title= 'z= f(x,y)') \n",
        "\n",
        " \n",
        "\n",
        "#ax.contour3D(xm, ym, zm, 100, cmap='rainbow') \n",
        "\n",
        " \n",
        "\n",
        "''' \n",
        "\n",
        "ax.plot_wireframe(xm, ym, zm, \n",
        "\n",
        "                rstride= 5,  \n",
        "\n",
        "                cstride= 5 \n",
        "\n",
        "                ) \n",
        "\n",
        "''' \n",
        "\n",
        " \n",
        "\n",
        "#''' \n",
        "\n",
        "ax.plot_surface(xm,ym,zm,  \n",
        "\n",
        "                rstride= 5,  \n",
        "\n",
        "                cstride= 5, \n",
        "\n",
        "                cmap=     'rainbow',   \n",
        "\n",
        "                edgecolor= 'gray' \n",
        "\n",
        "               ) \n",
        "\n",
        "#''' "
      ],
      "execution_count": null,
      "outputs": [
        {
          "output_type": "error",
          "ename": "NameError",
          "evalue": "ignored",
          "traceback": [
            "\u001b[0;31m---------------------------------------------------------------------------\u001b[0m",
            "\u001b[0;31mNameError\u001b[0m                                 Traceback (most recent call last)",
            "\u001b[0;32m<ipython-input-110-29580f6ae4cb>\u001b[0m in \u001b[0;36m<module>\u001b[0;34m()\u001b[0m\n\u001b[1;32m     39\u001b[0m \u001b[0;31m#'''\u001b[0m\u001b[0;34m\u001b[0m\u001b[0;34m\u001b[0m\u001b[0;34m\u001b[0m\u001b[0m\n\u001b[1;32m     40\u001b[0m \u001b[0;34m\u001b[0m\u001b[0m\n\u001b[0;32m---> 41\u001b[0;31m ax.plot_surface(xm,ym,zm,  \n\u001b[0m\u001b[1;32m     42\u001b[0m \u001b[0;34m\u001b[0m\u001b[0m\n\u001b[1;32m     43\u001b[0m                 \u001b[0mrstride\u001b[0m\u001b[0;34m=\u001b[0m \u001b[0;36m5\u001b[0m\u001b[0;34m,\u001b[0m\u001b[0;34m\u001b[0m\u001b[0;34m\u001b[0m\u001b[0m\n",
            "\u001b[0;31mNameError\u001b[0m: name 'xm' is not defined"
          ]
        },
        {
          "output_type": "display_data",
          "data": {
            "image/png": "[encoded data removed]",
            "text/plain": [
              "<Figure size 432x288 with 1 Axes>"
            ]
          },
          "metadata": {
            "needs_background": "light"
          }
        }
      ]
    },
    {
      "cell_type": "code",
      "metadata": {
        "colab": {
          "base_uri": "https://localhost:8080/"
        },
        "id": "R5Toq8VbtcRE",
        "outputId": "7cef061f-b635-45e4-f254-6b13f59f1dcf"
      },
      "source": [
        "import cmath\n",
        " \n",
        "num = int(input(\"请输入一个数字: \"))\n",
        "num_sqrt = cmath.sqrt(num)\n",
        "print('{0} 的平方根为 {1:0.3f}+{2:0.3f}j'.format(num ,num_sqrt.real,num_sqrt.imag))"
      ],
      "execution_count": null,
      "outputs": [
        {
          "output_type": "stream",
          "name": "stdout",
          "text": [
            "请输入一个数字: 0\n",
            "0 的平方根为 0.000+0.000j\n"
          ]
        }
      ]
    },
    {
      "cell_type": "code",
      "metadata": {
        "colab": {
          "base_uri": "https://localhost:8080/"
        },
        "id": "SDtm-P2awv5k",
        "outputId": "6a04cd73-c6bf-40ef-cfab-62b5dda7a32e"
      },
      "source": [
        "# 第二大題 第一題\n",
        "import numpy as np\n",
        "A = np.array([\n",
        "    [5, 1],\n",
        "    [1, 5]\n",
        "])\n",
        "\n",
        "B = np.array([\n",
        "    [10],\n",
        "    [20]\n",
        "])\n",
        "# print(A)\n",
        "# print(B)\n",
        "A_inv = np.linalg.inv(A)\n",
        "print(A_inv)"
      ],
      "execution_count": 10,
      "outputs": [
        {
          "output_type": "stream",
          "name": "stdout",
          "text": [
            "[[ 0.20833333 -0.04166667]\n",
            " [-0.04166667  0.20833333]]\n"
          ]
        }
      ]
    },
    {
      "cell_type": "code",
      "metadata": {
        "colab": {
          "base_uri": "https://localhost:8080/"
        },
        "id": "iljejmgCKSP4",
        "outputId": "dc4a9dab-a630-4813-e1a6-645013ac5044"
      },
      "source": [
        "# 第二題\n",
        "print(\"A, B相乘(矩陣乘法) =>\\n{0}\".format(A.dot(B)))"
      ],
      "execution_count": 11,
      "outputs": [
        {
          "output_type": "stream",
          "name": "stdout",
          "text": [
            "A, B相乘(矩陣乘法) =>\n",
            "[[ 70]\n",
            " [110]]\n"
          ]
        }
      ]
    },
    {
      "cell_type": "code",
      "metadata": {
        "colab": {
          "base_uri": "https://localhost:8080/",
          "height": 180
        },
        "id": "8SO6E179KclP",
        "outputId": "90a8943e-7866-405f-ee2a-66c5b41d0aff"
      },
      "source": [
        "# 第三題\n",
        "print(\"B,A相乘(矩陣乘法) =>\\n{0}\".format(B.dot(A)))"
      ],
      "execution_count": 12,
      "outputs": [
        {
          "output_type": "error",
          "ename": "ValueError",
          "evalue": "ignored",
          "traceback": [
            "\u001b[0;31m---------------------------------------------------------------------------\u001b[0m",
            "\u001b[0;31mValueError\u001b[0m                                Traceback (most recent call last)",
            "\u001b[0;32m<ipython-input-12-b9d41210148e>\u001b[0m in \u001b[0;36m<module>\u001b[0;34m()\u001b[0m\n\u001b[1;32m      1\u001b[0m \u001b[0;31m# 第三題\u001b[0m\u001b[0;34m\u001b[0m\u001b[0;34m\u001b[0m\u001b[0;34m\u001b[0m\u001b[0m\n\u001b[0;32m----> 2\u001b[0;31m \u001b[0mprint\u001b[0m\u001b[0;34m(\u001b[0m\u001b[0;34m\"B,A相乘(矩陣乘法) =>\\n{0}\"\u001b[0m\u001b[0;34m.\u001b[0m\u001b[0mformat\u001b[0m\u001b[0;34m(\u001b[0m\u001b[0mB\u001b[0m\u001b[0;34m.\u001b[0m\u001b[0mdot\u001b[0m\u001b[0;34m(\u001b[0m\u001b[0mA\u001b[0m\u001b[0;34m)\u001b[0m\u001b[0;34m)\u001b[0m\u001b[0;34m)\u001b[0m\u001b[0;34m\u001b[0m\u001b[0;34m\u001b[0m\u001b[0m\n\u001b[0m",
            "\u001b[0;31mValueError\u001b[0m: shapes (2,1) and (2,2) not aligned: 1 (dim 1) != 2 (dim 0)"
          ]
        }
      ]
    },
    {
      "cell_type": "code",
      "metadata": {
        "colab": {
          "base_uri": "https://localhost:8080/"
        },
        "id": "EjBLvVi8yo11",
        "outputId": "c3d052cf-8dd3-42e4-fadd-4298d53fabeb"
      },
      "source": [
        "#第四題\n",
        "BT = B.T\n",
        "\n",
        "print(\"BT,A相乘(矩陣乘法) =>\\n{0}\".format(BT.dot(A)))"
      ],
      "execution_count": 13,
      "outputs": [
        {
          "output_type": "stream",
          "name": "stdout",
          "text": [
            "BT,A相乘(矩陣乘法) =>\n",
            "[[ 70 110]]\n"
          ]
        }
      ]
    },
    {
      "cell_type": "code",
      "metadata": {
        "colab": {
          "base_uri": "https://localhost:8080/"
        },
        "id": "PTCRFTOiz8FX",
        "outputId": "329a7bfb-9ef0-49d0-9fe3-3fbb93185940"
      },
      "source": [
        "# 第六題\n",
        "c = np.linalg.eig(A)\n",
        "# d = np.linalg.eig(B)\n",
        "print(c[1])"
      ],
      "execution_count": 15,
      "outputs": [
        {
          "output_type": "stream",
          "name": "stdout",
          "text": [
            "[[ 0.70710678 -0.70710678]\n",
            " [ 0.70710678  0.70710678]]\n"
          ]
        }
      ]
    },
    {
      "cell_type": "code",
      "metadata": {
        "colab": {
          "base_uri": "https://localhost:8080/"
        },
        "id": "EJ5vRoED16B_",
        "outputId": "1eb03cf7-c9bc-4caf-f1c6-7750482b11ec"
      },
      "source": [
        "# 第七題\n",
        "print(format(A_inv.dot(B)))"
      ],
      "execution_count": null,
      "outputs": [
        {
          "output_type": "stream",
          "name": "stdout",
          "text": [
            "[[1.25]\n",
            " [3.75]]\n"
          ]
        }
      ]
    },
    {
      "cell_type": "code",
      "metadata": {
        "colab": {
          "base_uri": "https://localhost:8080/",
          "height": 56
        },
        "id": "OzJS7uRUNezF",
        "outputId": "0309b954-e10c-4c8c-e44d-c64d2887f1d1"
      },
      "source": [
        "# 第一題\n",
        "# n = 根號2 * 根號拍\n",
        "import math\n",
        "integrate(exp(-x**2/2)/n,(x,-2,2))"
      ],
      "execution_count": 18,
      "outputs": [
        {
          "output_type": "execute_result",
          "data": {
            "text/latex": "$\\displaystyle \\frac{\\sqrt{2} \\sqrt{\\pi} \\operatorname{erf}{\\left(\\sqrt{2} \\right)}}{n}$",
            "text/plain": [
              "sqrt(2)*sqrt(pi)*erf(sqrt(2))/n"
            ]
          },
          "metadata": {},
          "execution_count": 18
        }
      ]
    },
    {
      "cell_type": "code",
      "metadata": {
        "colab": {
          "base_uri": "https://localhost:8080/",
          "height": 65
        },
        "id": "wjaI0f0NNeqk",
        "outputId": "a53166aa-f2f5-41d0-b43e-491326fdd94c"
      },
      "source": [
        "# 第二題\n",
        "# n = 根號2 * 根號拍\n",
        "import math\n",
        "integrate(exp(-x**2/2)/n,(x,-oo,t))"
      ],
      "execution_count": 19,
      "outputs": [
        {
          "output_type": "execute_result",
          "data": {
            "text/latex": "$\\displaystyle \\frac{\\sqrt{2} \\sqrt{\\pi} \\operatorname{erf}{\\left(\\frac{\\sqrt{2} t}{2} \\right)}}{2 n} + \\frac{\\sqrt{2} \\sqrt{\\pi}}{2 n}$",
            "text/plain": [
              "sqrt(2)*sqrt(pi)*erf(sqrt(2)*t/2)/(2*n) + sqrt(2)*sqrt(pi)/(2*n)"
            ]
          },
          "metadata": {},
          "execution_count": 19
        }
      ]
    },
    {
      "cell_type": "code",
      "metadata": {
        "colab": {
          "base_uri": "https://localhost:8080/",
          "height": 36
        },
        "id": "9mwu3YQ3Nemg",
        "outputId": "62c9a3a6-ec26-47e8-a53a-f9b977e95290"
      },
      "source": [
        "# 第三題\n",
        "# n = 根號2 * 根號拍\n",
        "integrate(x * exp(-x**2/2)/n,(x,-oo,oo))"
      ],
      "execution_count": 20,
      "outputs": [
        {
          "output_type": "execute_result",
          "data": {
            "text/latex": "$\\displaystyle 0$",
            "text/plain": [
              "0"
            ]
          },
          "metadata": {},
          "execution_count": 20
        }
      ]
    },
    {
      "cell_type": "code",
      "metadata": {
        "colab": {
          "base_uri": "https://localhost:8080/",
          "height": 55
        },
        "id": "kZOOI88TW_hp",
        "outputId": "fcaef630-0ddb-46a8-ab95-a214fbb88882"
      },
      "source": [
        "# 第四題\n",
        "# n = 根號2 * 根號拍\n",
        "integrate((x-0)**2 * exp(-x**2/2)/n,(x,-oo,oo))"
      ],
      "execution_count": 21,
      "outputs": [
        {
          "output_type": "execute_result",
          "data": {
            "text/latex": "$\\displaystyle \\frac{\\sqrt{2} \\sqrt{\\pi}}{n}$",
            "text/plain": [
              "sqrt(2)*sqrt(pi)/n"
            ]
          },
          "metadata": {},
          "execution_count": 21
        }
      ]
    },
    {
      "cell_type": "code",
      "metadata": {
        "colab": {
          "base_uri": "https://localhost:8080/",
          "height": 36
        },
        "id": "Pa41sCD9XPlk",
        "outputId": "49563d1f-8518-44d2-d57d-50f5872942ad"
      },
      "source": [
        "# 第五題\n",
        "# n = 根號2 * 根號拍\n",
        "integrate(((x-0)/1)**3 * exp(-x**2/2)/n,(x,-oo,oo))"
      ],
      "execution_count": 22,
      "outputs": [
        {
          "output_type": "execute_result",
          "data": {
            "text/latex": "$\\displaystyle 0$",
            "text/plain": [
              "0"
            ]
          },
          "metadata": {},
          "execution_count": 22
        }
      ]
    },
    {
      "cell_type": "code",
      "metadata": {
        "colab": {
          "base_uri": "https://localhost:8080/",
          "height": 55
        },
        "id": "_0Ero2LeXYo3",
        "outputId": "5785cfbb-a9b2-4d38-ed74-bdfb5584ad04"
      },
      "source": [
        "# 第六題\n",
        "# n = 根號2 * 根號拍\n",
        "integrate(((x-0)/1)**4 * exp(-x**2/2)/n,(x,-oo,oo))"
      ],
      "execution_count": 23,
      "outputs": [
        {
          "output_type": "execute_result",
          "data": {
            "text/latex": "$\\displaystyle \\frac{3 \\sqrt{2} \\sqrt{\\pi}}{n}$",
            "text/plain": [
              "3*sqrt(2)*sqrt(pi)/n"
            ]
          },
          "metadata": {},
          "execution_count": 23
        }
      ]
    },
    {
      "cell_type": "code",
      "metadata": {
        "colab": {
          "base_uri": "https://localhost:8080/",
          "height": 74
        },
        "id": "eMt1sr8g3rqs",
        "outputId": "dbd56832-cf91-42d0-a8c8-d9dd6c606636"
      },
      "source": [
        "import math\n",
        "\n",
        "print(math.sqrt(2))\n",
        "\n",
        "integrate(x**4 * exp(-x**2/2)/n,(x,-oo,oo))"
      ],
      "execution_count": null,
      "outputs": [
        {
          "output_type": "stream",
          "name": "stdout",
          "text": [
            "1.4142135623730951\n"
          ]
        },
        {
          "output_type": "execute_result",
          "data": {
            "text/latex": "$\\displaystyle \\frac{3 \\sqrt{2} \\sqrt{\\pi}}{n}$",
            "text/plain": [
              "3*sqrt(2)*sqrt(pi)/n"
            ]
          },
          "metadata": {},
          "execution_count": 95
        }
      ]
    },
    {
      "cell_type": "code",
      "metadata": {
        "colab": {
          "base_uri": "https://localhost:8080/",
          "height": 241
        },
        "id": "7gWaBKiUa7hB",
        "outputId": "0a95b0ca-c441-41d2-e095-77cd995f8938"
      },
      "source": [
        "# 第八題到第十二題\n",
        "import matplotlib.pyplot as plt\n",
        "\n",
        "\n",
        "def ryDistribution_demo(distributionType= 'normal', sampleSize= 1000): \n",
        "     \n",
        "    #sampleSize= 1000 \n",
        "     \n",
        "    t= np.arange(sampleSize) \n",
        "     \n",
        "    if distributionType in ['normal','gauss','gaussian']: \n",
        "        X= np.random.normal(size= sampleSize) \n",
        "    elif distributionType == 'uniform': \n",
        "        X= np.random.uniform(0,10, size= sampleSize) \n",
        "    else: \n",
        "        X= np.sin(t/sampleSize*2*np.pi) \n",
        "     \n",
        "    fig,ax = plt.subplots(2, 1,figsize=(6,3)) \n",
        "    ax[0].plot(X,t,'r.',alpha=.5) \n",
        "     \n",
        "    X1= X.copy() \n",
        "    X1.sort() \n",
        "    ax[0].plot(X1,t,'g.',alpha=.3) \n",
        "\n",
        "    ax[0].set_xlabel('X') \n",
        "    ax[0].set_ylabel('t') \n",
        "    ax[0].legend(['X','X1= X.sort()']) \n",
        "    ax[0].set_title(f'{distributionType}, X= X(t)') \n",
        "     \n",
        "     \n",
        "    f, x= np.histogram(X, bins=20) \n",
        "    x= x[:-1] # 原本的 x 比 f 多 1 點，故在此把它弄掉 \n",
        "     \n",
        "    ax[1].bar(x, f, width= .2, color='r', alpha=.5) \n",
        "     \n",
        "    F= f.cumsum() \n",
        "    ax[1].bar(x, F, width= .2, color= 'g', alpha=.3) \n",
        "     \n",
        "    ax[1].set_xlabel('x') \n",
        "    ax[1].set_ylabel('f, F') \n",
        "    ax[1].legend(['f','F= f.cumsum()']) \n",
        "    ax[1].set_title('f= histogram(X)= f(x)') \n",
        "     \n",
        "     \n",
        "    plt.show() \n",
        "     \n",
        "# ryDistribution_demo('uniform', 100) \n",
        "# ryDistribution_demo('uniform', 1000) \n",
        "# ryDistribution_demo('normal', 100) \n",
        "ryDistribution_demo('normal', 1000) "
      ],
      "execution_count": 27,
      "outputs": [
        {
          "output_type": "display_data",
          "data": {
            "image/png": "[encoded data removed]",
            "text/plain": [
              "<Figure size 432x216 with 2 Axes>"
            ]
          },
          "metadata": {
            "needs_background": "light"
          }
        }
      ]
    },
    {
      "cell_type": "code",
      "metadata": {
        "id": "SXpoJuribLp_"
      },
      "source": [
        ""
      ],
      "execution_count": null,
      "outputs": []
    }
  ]
}